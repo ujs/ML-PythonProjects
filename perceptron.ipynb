{
  "nbformat": 4,
  "nbformat_minor": 0,
  "metadata": {
    "colab": {
      "name": "perceptron.ipynb",
      "provenance": [],
      "authorship_tag": "ABX9TyMVTeqA5XWG+9LjuN7ABGDD",
      "include_colab_link": true
    },
    "kernelspec": {
      "name": "python3",
      "display_name": "Python 3"
    }
  },
  "cells": [
    {
      "cell_type": "markdown",
      "metadata": {
        "id": "view-in-github",
        "colab_type": "text"
      },
      "source": [
        "<a href=\"https://colab.research.google.com/github/ujs/MachineLearningCode/blob/master/perceptron.ipynb\" target=\"_parent\"><img src=\"https://colab.research.google.com/assets/colab-badge.svg\" alt=\"Open In Colab\"/></a>"
      ]
    },
    {
      "cell_type": "code",
      "metadata": {
        "id": "GNIearGb-bWX",
        "colab_type": "code",
        "colab": {}
      },
      "source": [
        " #Import libraries\n",
        " from random import seed\n",
        " from random import randrange\n",
        " from csv import reader\n",
        " import numpy as np"
      ],
      "execution_count": 0,
      "outputs": []
    },
    {
      "cell_type": "code",
      "metadata": {
        "id": "QIRoxpI6CePp",
        "colab_type": "code",
        "colab": {
          "base_uri": "https://localhost:8080/",
          "height": 34
        },
        "outputId": "5396d9dd-37c7-48a4-f10a-dd3f61785da2"
      },
      "source": [
        "a = np.array([1,2])\n",
        "a = a.astype('float')\n",
        "a.dtype"
      ],
      "execution_count": 10,
      "outputs": [
        {
          "output_type": "execute_result",
          "data": {
            "text/plain": [
              "dtype('float64')"
            ]
          },
          "metadata": {
            "tags": []
          },
          "execution_count": 10
        }
      ]
    },
    {
      "cell_type": "code",
      "metadata": {
        "id": "zT5hqlSC_ihW",
        "colab_type": "code",
        "colab": {}
      },
      "source": [
        "#load data\n",
        "def load_csv(filename):\n",
        "  dataset = list()\n",
        "  f = open(filename, 'r')\n",
        "  for row in f.readlines():\n",
        "    if not row:\n",
        "      continue\n",
        "    else:\n",
        "      dataset.append(row)\n",
        "    dataset = np.array(dataset)\n",
        "    return dataset\n"
      ],
      "execution_count": 0,
      "outputs": []
    },
    {
      "cell_type": "code",
      "metadata": {
        "id": "BGzvOslR7CDH",
        "colab_type": "code",
        "colab": {}
      },
      "source": [
        "#preprocess data\n",
        "\n",
        "def convert_to_float(dataset,column):\n",
        "  dataset[:,column] = dataset[:,column].astype('float')\n",
        "  return dataset\n",
        "\n",
        "#convert categorical labels into integer\n",
        "def convert_to_int(dataset, column): \n",
        "  unique = set(list(dataset[:,column]))\n",
        "  lookup = dict()\n",
        "  for i, value in enumerate(unique):\n",
        "    lookup[value] = i\n",
        "  dataset[]\n",
        "\n"
      ],
      "execution_count": 0,
      "outputs": []
    },
    {
      "cell_type": "code",
      "metadata": {
        "id": "666luhfD7C3M",
        "colab_type": "code",
        "colab": {}
      },
      "source": [
        "#Split data into train, validation, test"
      ],
      "execution_count": 0,
      "outputs": []
    },
    {
      "cell_type": "code",
      "metadata": {
        "id": "O5ptd2jN7DAt",
        "colab_type": "code",
        "colab": {}
      },
      "source": [
        "#Perceptron algorithm implementation (training)"
      ],
      "execution_count": 0,
      "outputs": []
    },
    {
      "cell_type": "code",
      "metadata": {
        "id": "itajkmAZ7DHG",
        "colab_type": "code",
        "colab": {}
      },
      "source": [
        "#Cross Validation"
      ],
      "execution_count": 0,
      "outputs": []
    },
    {
      "cell_type": "code",
      "metadata": {
        "id": "Gi8BnVAO7DLV",
        "colab_type": "code",
        "colab": {}
      },
      "source": [
        "#Evaluation of algorithm"
      ],
      "execution_count": 0,
      "outputs": []
    },
    {
      "cell_type": "code",
      "metadata": {
        "id": "UFxAAxiz7DRf",
        "colab_type": "code",
        "colab": {}
      },
      "source": [
        "#Plotting results"
      ],
      "execution_count": 0,
      "outputs": []
    },
    {
      "cell_type": "code",
      "metadata": {
        "id": "lVvNVi6g7DWh",
        "colab_type": "code",
        "colab": {}
      },
      "source": [
        ""
      ],
      "execution_count": 0,
      "outputs": []
    },
    {
      "cell_type": "code",
      "metadata": {
        "id": "0E3oAHil7Dbz",
        "colab_type": "code",
        "colab": {}
      },
      "source": [
        ""
      ],
      "execution_count": 0,
      "outputs": []
    },
    {
      "cell_type": "code",
      "metadata": {
        "id": "dDeOASyI7Dg1",
        "colab_type": "code",
        "colab": {}
      },
      "source": [
        ""
      ],
      "execution_count": 0,
      "outputs": []
    },
    {
      "cell_type": "code",
      "metadata": {
        "id": "gcvc-xUN7DyL",
        "colab_type": "code",
        "colab": {}
      },
      "source": [
        ""
      ],
      "execution_count": 0,
      "outputs": []
    },
    {
      "cell_type": "code",
      "metadata": {
        "id": "OCz5dQz37D2K",
        "colab_type": "code",
        "colab": {}
      },
      "source": [
        ""
      ],
      "execution_count": 0,
      "outputs": []
    }
  ]
}